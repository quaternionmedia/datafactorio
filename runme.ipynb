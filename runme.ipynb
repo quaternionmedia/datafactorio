{
 "cells": [
  {
   "cell_type": "code",
   "execution_count": null,
   "metadata": {},
   "outputs": [],
   "source": [
    "%pip install semver"
   ]
  },
  {
   "cell_type": "code",
   "execution_count": null,
   "metadata": {},
   "outputs": [],
   "source": [
    "import semver\n",
    "import shutil\n",
    "import os\n",
    "import json\n"
   ]
  },
  {
   "cell_type": "code",
   "execution_count": null,
   "metadata": {},
   "outputs": [],
   "source": [
    "def read_value_from_json(file_path, key):\n",
    "    with open(file_path, 'r') as file:\n",
    "        data = json.load(file)\n",
    "        value = data[key]\n",
    "        return value\n",
    "    \n",
    "def read_values_from_json(file_path, keys):\n",
    "    with open(file_path, 'r') as file:\n",
    "        data = json.load(file)\n",
    "        values = []\n",
    "        for key in keys:\n",
    "            values.append(data[key])\n",
    "        return values\n",
    "    \n",
    "# ver = read_value_from_json('src/info.json', 'version')\n",
    "# appname = read_value_from_json('src/info.json', 'name')\n",
    "# print(ver, appname)"
   ]
  },
  {
   "cell_type": "code",
   "execution_count": null,
   "metadata": {},
   "outputs": [],
   "source": [
    "def write_kv_to_json(file_path, key, value):\n",
    "    with open(file_path, 'r') as file:\n",
    "        data = json.load(file)\n",
    "        data[key] = value\n",
    "        with open(file_path, 'w') as file:\n",
    "            json.dump(data, file, indent=4)\n",
    "\n",
    "def write_kvs_to_json(file_path, keys, values):\n",
    "    with open(file_path, 'r') as file:\n",
    "        data = json.load(file)\n",
    "        for i in range(len(keys)):\n",
    "            data[keys[i]] = values[i]\n",
    "        with open(file_path, 'w') as file:\n",
    "            json.dump(data, file, indent=4)\n",
    "\n",
    "# write_kv_to_json('src/info.json', 'version', '0.0.5')\n",
    "# write_kv_to_json('src/info.json', 'version', '3.14.159')\n",
    "            "
   ]
  },
  {
   "cell_type": "code",
   "execution_count": null,
   "metadata": {},
   "outputs": [],
   "source": [
    "def zip_app():\n",
    "    appname, version = read_values_from_json('mod/src/info.json', ['name', 'version'])\n",
    "    zip_filename = f'{appname}_{version}'\n",
    "    zip_path = f'{zip_filename}'\n",
    "    shutil.make_archive(zip_path, 'zip', 'mod')\n",
    "    return zip_path, appname\n"
   ]
  },
  {
   "cell_type": "code",
   "execution_count": null,
   "metadata": {},
   "outputs": [],
   "source": [
    "def bump_version(file_path, type='patch'):\n",
    "    current_version = read_value_from_json(file_path, 'version')\n",
    "    if type == 'major':\n",
    "        new_version = semver.bump_major(current_version)\n",
    "    elif type == 'minor':\n",
    "        new_version = semver.bump_minor(current_version)\n",
    "    elif type == 'patch':\n",
    "        new_version = semver.bump_patch(current_version)\n",
    "    else:\n",
    "        raise ValueError('Invalid type')\n",
    "    write_kv_to_json(file_path, 'version', new_version)\n",
    "    return new_version\n",
    "\n",
    "# bump_version('src/info.json')\n"
   ]
  },
  {
   "cell_type": "code",
   "execution_count": null,
   "metadata": {},
   "outputs": [],
   "source": [
    "def find_other_installed_versions(mod_folder):\n",
    "    files = os.listdir(mod_folder)\n",
    "    appname, version = read_values_from_json('mod/src/info.json', ['name', 'version'])\n",
    "    other_versions = [f for f in files if appname in f and version not in f]\n",
    "    return other_versions\n",
    "\n",
    "# find_other_installed_versions(factorio_mods)"
   ]
  },
  {
   "cell_type": "code",
   "execution_count": null,
   "metadata": {},
   "outputs": [],
   "source": [
    "def remove_old_versions(mod_folder):\n",
    "    other_versions = find_other_installed_versions(mod_folder)\n",
    "    for version in other_versions:\n",
    "        os.remove(mod_folder + version)\n",
    "    return other_versions\n",
    "\n",
    "# remove_old_versions(factorio_mods)"
   ]
  },
  {
   "cell_type": "code",
   "execution_count": null,
   "metadata": {},
   "outputs": [],
   "source": [
    "def package_app(mod_folder):\n",
    "    version = bump_version('mod/src/info.json')\n",
    "    path, appname = zip_app()\n",
    "    dest = shutil.copy(f'{path}.zip', mod_folder)\n",
    "    old_versions = remove_old_versions(mod_folder)\n",
    "    return f'Packaged {appname} {version} to {dest} and removed {old_versions}'\n"
   ]
  },
  {
   "cell_type": "code",
   "execution_count": null,
   "metadata": {},
   "outputs": [],
   "source": [
    "factorio_mods = 'C:/Users/peter/AppData/Roaming/Factorio/mods/'\n",
    "package_app(factorio_mods)"
   ]
  },
  {
   "cell_type": "code",
   "execution_count": null,
   "metadata": {},
   "outputs": [],
   "source": [
    "%pip install pyautogui"
   ]
  },
  {
   "cell_type": "code",
   "execution_count": null,
   "metadata": {},
   "outputs": [],
   "source": [
    "import pyautogui\n"
   ]
  },
  {
   "cell_type": "code",
   "execution_count": null,
   "metadata": {},
   "outputs": [],
   "source": [
    "\n",
    "def find_window(window_title):\n",
    "    window = pyautogui.getWindowsWithTitle(window_title)\n",
    "    if window:\n",
    "        return window[0]\n",
    "    else:\n",
    "        return None\n",
    "\n",
    "def focus_window(window_title):\n",
    "    window = find_window(window_title)\n",
    "    if window:\n",
    "        window.activate()\n",
    "        return True\n",
    "    else:\n",
    "        return False\n",
    "    \n"
   ]
  },
  {
   "cell_type": "code",
   "execution_count": null,
   "metadata": {},
   "outputs": [],
   "source": [
    "win_name = 'Factorio 1.1.101'\n"
   ]
  },
  {
   "cell_type": "code",
   "execution_count": null,
   "metadata": {},
   "outputs": [],
   "source": [
    "factorio_window = find_window(win_name)"
   ]
  },
  {
   "cell_type": "code",
   "execution_count": null,
   "metadata": {},
   "outputs": [],
   "source": [
    "def click_text_in_window(text):\n",
    "    try:\n",
    "        text_location = pyautogui.locateCenterOnScreen(f'ref/{text}.png')\n",
    "        if text_location:\n",
    "            pyautogui.click(text_location)\n",
    "            return True\n",
    "        else:\n",
    "            return False\n",
    "    except pyautogui.ImageNotFoundException:\n",
    "        return False\n"
   ]
  },
  {
   "cell_type": "code",
   "execution_count": null,
   "metadata": {},
   "outputs": [],
   "source": [
    "def click_exit_from_main_menu():\n",
    "    try:\n",
    "        # assumes a png file named 'exit.png' exists in the 'ref' folder w a screenshot of factorio's exit button\n",
    "        click_text_in_window('exit')\n",
    "        return True\n",
    "    except pyautogui.ImageNotFoundException:\n",
    "        return False\n",
    "    \n",
    "# click_exit_from_main_menu()"
   ]
  },
  {
   "cell_type": "code",
   "execution_count": null,
   "metadata": {},
   "outputs": [],
   "source": [
    "from datetime import datetime"
   ]
  },
  {
   "cell_type": "code",
   "execution_count": null,
   "metadata": {},
   "outputs": [],
   "source": [
    "def get_changelog():\n",
    "    # check if change log exists\n",
    "    # if not, create it\n",
    "    # if it does, read it and return the contents\n",
    "    changelog_path = 'mod/src/changelog.txt'\n",
    "    if not os.path.exists(changelog_path):\n",
    "        with open(changelog_path, 'w') as file:\n",
    "            file.write('')\n",
    "        return ''\n",
    "    else:\n",
    "        with open(changelog_path, 'r') as file:\n",
    "            return file.read()\n",
    "        \n",
    "\n",
    "def write_changelog(changelog):\n",
    "    changelog_path = 'mod/src/changelog.txt'\n",
    "    with open(changelog_path, 'w') as file:\n",
    "        file.write(changelog)\n",
    "\n",
    "def write_to_changelog(text):\n",
    "    changelog = get_changelog()\n",
    "    changelog += text\n",
    "    write_changelog(changelog)\n",
    "\n",
    "def format_output(categories):\n",
    "    \"\"\"\n",
    "    Takes a dictionary with categories and lists of entries and formats them into a structured string.\n",
    "    \n",
    "    Args:\n",
    "    - categories (dict): A dictionary where keys are category names and values are lists of entries.\n",
    "    \n",
    "    Returns:\n",
    "    - str: A formatted string with categories and entries.\n",
    "    \"\"\"\n",
    "    output = []\n",
    "    for category, entries in categories.items():\n",
    "        output.append(f\"{category}:\")\n",
    "        for entry in entries:\n",
    "            # For multi-line entries, ensure proper indentation for lines after the first\n",
    "            formatted_entry = entry.replace(\"\\n\", \"\\n    \").rstrip()\n",
    "            output.append(f\"      - {formatted_entry}\")\n",
    "    return \"\\n\".join(output)\n",
    "\n",
    "def create_changelog_entry(params):\n",
    "    changelog = []\n",
    "    changelog.append('-'*99 + '\\n')\n",
    "    version_string = f'Version: {read_value_from_json(\"mod/src/info.json\", \"version\")}\\n'\n",
    "    date_string = f\"Date: {datetime.now():%d. %m. %Y}\\n\"\n",
    "    changelog.append(version_string)\n",
    "    changelog.append(date_string)\n",
    "    for changes in format_output(params):\n",
    "        changelog.append(changes)\n",
    "    changelog.append('\\n')\n",
    "    return ''.join(changelog)\n",
    "\n",
    "def add_changelog_entry(params):\n",
    "    entry = create_changelog_entry(params)\n",
    "    write_to_changelog(entry)\n",
    "    return entry\n",
    "\n",
    "# add_changelog_entry({'Added': ['New feature', 'Another new feature'], 'Changed': ['Updated feature', 'Another updated feature'], 'Fixed': ['Bug fix', 'Another bug fix']})"
   ]
  },
  {
   "cell_type": "code",
   "execution_count": null,
   "metadata": {},
   "outputs": [],
   "source": [
    "import re\n",
    "from collections import Counter\n",
    "\n",
    "def extract_repeated_timestamps(filenames):\n",
    "    \"\"\"\n",
    "    Extracts and returns a list of unique timestamps that are repeated in the filenames,\n",
    "    assuming the timestamp format is an integer sequence before the '-' character.\n",
    "    \n",
    "    Args:\n",
    "    - filenames (list of str): The list of filenames in the format 'timestamp-suffix.ext'.\n",
    "    \n",
    "    Returns:\n",
    "    - list of int: A list of unique, repeated timestamps.\n",
    "    \"\"\"\n",
    "    # Regular expression to match the timestamp pattern\n",
    "    timestamp_pattern = re.compile(r'^(\\d+)-')\n",
    "    \n",
    "    timestamps = []\n",
    "    for filename in filenames:\n",
    "        match = timestamp_pattern.match(filename)\n",
    "        if match:\n",
    "            timestamps.append(int(match.group(1)))\n",
    "    \n",
    "    # Count occurrences of each timestamp\n",
    "    timestamp_counts = Counter(timestamps)\n",
    "    \n",
    "    # Filter timestamps that are repeated, i.e., count > 1\n",
    "    repeated_timestamps = [timestamp for timestamp, count in timestamp_counts.items() if count > 1]\n",
    "    \n",
    "    return repeated_timestamps"
   ]
  },
  {
   "cell_type": "code",
   "execution_count": null,
   "metadata": {},
   "outputs": [],
   "source": [
    "script_output_folder = 'C:/Users/peter/AppData/Roaming/Factorio/script-output'\n",
    "extract_repeated_timestamps(os.listdir(script_output_folder))"
   ]
  },
  {
   "cell_type": "code",
   "execution_count": null,
   "metadata": {},
   "outputs": [],
   "source": []
  }
 ],
 "metadata": {
  "kernelspec": {
   "display_name": "Python 3",
   "language": "python",
   "name": "python3"
  },
  "language_info": {
   "codemirror_mode": {
    "name": "ipython",
    "version": 3
   },
   "file_extension": ".py",
   "mimetype": "text/x-python",
   "name": "python",
   "nbconvert_exporter": "python",
   "pygments_lexer": "ipython3",
   "version": "3.11.7"
  }
 },
 "nbformat": 4,
 "nbformat_minor": 2
}
