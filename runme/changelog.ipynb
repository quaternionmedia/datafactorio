{
 "cells": [
  {
   "cell_type": "code",
   "execution_count": null,
   "metadata": {},
   "outputs": [],
   "source": [
    "from datetime import datetime"
   ]
  },
  {
   "cell_type": "code",
   "execution_count": null,
   "metadata": {},
   "outputs": [],
   "source": [
    "def get_changelog():\n",
    "    # check if change log exists\n",
    "    # if not, create it\n",
    "    # if it does, read it and return the contents\n",
    "    changelog_path = 'mod/src/changelog.txt'\n",
    "    if not os.path.exists(changelog_path):\n",
    "        with open(changelog_path, 'w') as file:\n",
    "            file.write('')\n",
    "        return ''\n",
    "    else:\n",
    "        with open(changelog_path, 'r') as file:\n",
    "            return file.read()\n",
    "        \n",
    "\n",
    "def write_changelog(changelog):\n",
    "    changelog_path = 'mod/src/changelog.txt'\n",
    "    with open(changelog_path, 'w') as file:\n",
    "        file.write(changelog)\n",
    "\n",
    "def write_to_changelog(text):\n",
    "    changelog = get_changelog()\n",
    "    changelog += text\n",
    "    write_changelog(changelog)\n",
    "\n",
    "def format_output(categories):\n",
    "    \"\"\"\n",
    "    Takes a dictionary with categories and lists of entries and formats them into a structured string.\n",
    "    \n",
    "    Args:\n",
    "    - categories (dict): A dictionary where keys are category names and values are lists of entries.\n",
    "    \n",
    "    Returns:\n",
    "    - str: A formatted string with categories and entries.\n",
    "    \"\"\"\n",
    "    output = []\n",
    "    for category, entries in categories.items():\n",
    "        output.append(f\"{category}:\")\n",
    "        for entry in entries:\n",
    "            # For multi-line entries, ensure proper indentation for lines after the first\n",
    "            formatted_entry = entry.replace(\"\\n\", \"\\n    \").rstrip()\n",
    "            output.append(f\"      - {formatted_entry}\")\n",
    "    return \"\\n\".join(output)\n",
    "\n",
    "def create_changelog_entry(params):\n",
    "    changelog = []\n",
    "    changelog.append('-'*99 + '\\n')\n",
    "    version_string = f'Version: {read_value_from_json(\"mod/src/info.json\", \"version\")}\\n'\n",
    "    date_string = f\"Date: {datetime.now():%d. %m. %Y}\\n\"\n",
    "    changelog.append(version_string)\n",
    "    changelog.append(date_string)\n",
    "    for changes in format_output(params):\n",
    "        changelog.append(changes)\n",
    "    changelog.append('\\n')\n",
    "    return ''.join(changelog)\n",
    "\n",
    "def add_changelog_entry(params):\n",
    "    entry = create_changelog_entry(params)\n",
    "    write_to_changelog(entry)\n",
    "    return entry\n",
    "\n",
    "# add_changelog_entry({'Added': ['New feature', 'Another new feature'], 'Changed': ['Updated feature', 'Another updated feature'], 'Fixed': ['Bug fix', 'Another bug fix']})"
   ]
  }
 ],
 "metadata": {
  "language_info": {
   "name": "python"
  }
 },
 "nbformat": 4,
 "nbformat_minor": 2
}
