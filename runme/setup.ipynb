{
 "cells": [
  {
   "cell_type": "code",
   "execution_count": null,
   "metadata": {},
   "outputs": [],
   "source": [
    "%pip install semver"
   ]
  },
  {
   "cell_type": "code",
   "execution_count": null,
   "metadata": {},
   "outputs": [],
   "source": [
    "import semver\n",
    "import shutil\n",
    "import os\n",
    "import json\n"
   ]
  },
  {
   "cell_type": "code",
   "execution_count": null,
   "metadata": {},
   "outputs": [],
   "source": [
    "def read_value_from_json(file_path, key):\n",
    "    with open(file_path, 'r') as file:\n",
    "        data = json.load(file)\n",
    "        value = data[key]\n",
    "        return value\n",
    "    \n",
    "def read_values_from_json(file_path, keys):\n",
    "    with open(file_path, 'r') as file:\n",
    "        data = json.load(file)\n",
    "        values = []\n",
    "        for key in keys:\n",
    "            values.append(data[key])\n",
    "        return values\n",
    "    \n",
    "# ver = read_value_from_json('src/info.json', 'version')\n",
    "# appname = read_value_from_json('src/info.json', 'name')\n",
    "# print(ver, appname)"
   ]
  },
  {
   "cell_type": "code",
   "execution_count": null,
   "metadata": {},
   "outputs": [],
   "source": [
    "def write_kv_to_json(file_path, key, value):\n",
    "    with open(file_path, 'r') as file:\n",
    "        data = json.load(file)\n",
    "        data[key] = value\n",
    "        with open(file_path, 'w') as file:\n",
    "            json.dump(data, file, indent=4)\n",
    "\n",
    "def write_kvs_to_json(file_path, keys, values):\n",
    "    with open(file_path, 'r') as file:\n",
    "        data = json.load(file)\n",
    "        for i in range(len(keys)):\n",
    "            data[keys[i]] = values[i]\n",
    "        with open(file_path, 'w') as file:\n",
    "            json.dump(data, file, indent=4)\n",
    "\n",
    "# write_kv_to_json('src/info.json', 'version', '0.0.5')\n",
    "# write_kv_to_json('src/info.json', 'version', '3.14.159')\n",
    "            "
   ]
  },
  {
   "cell_type": "code",
   "execution_count": null,
   "metadata": {},
   "outputs": [],
   "source": [
    "def zip_app():\n",
    "    appname, version = read_values_from_json('mod/src/info.json', ['name', 'version'])\n",
    "    zip_filename = f'{appname}_{version}'\n",
    "    zip_path = f'{zip_filename}'\n",
    "    shutil.make_archive(zip_path, 'zip', 'mod')\n",
    "    return zip_path, appname\n"
   ]
  },
  {
   "cell_type": "code",
   "execution_count": null,
   "metadata": {},
   "outputs": [],
   "source": [
    "def bump_version(file_path, type='patch'):\n",
    "    current_version = read_value_from_json(file_path, 'version')\n",
    "    if type == 'major':\n",
    "        new_version = semver.bump_major(current_version)\n",
    "    elif type == 'minor':\n",
    "        new_version = semver.bump_minor(current_version)\n",
    "    elif type == 'patch':\n",
    "        new_version = semver.bump_patch(current_version)\n",
    "    else:\n",
    "        raise ValueError('Invalid type')\n",
    "    write_kv_to_json(file_path, 'version', new_version)\n",
    "    return new_version\n",
    "\n",
    "# bump_version('src/info.json')\n"
   ]
  },
  {
   "cell_type": "code",
   "execution_count": null,
   "metadata": {},
   "outputs": [],
   "source": [
    "def find_other_installed_versions(mod_folder):\n",
    "    files = os.listdir(mod_folder)\n",
    "    appname, version = read_values_from_json('mod/src/info.json', ['name', 'version'])\n",
    "    other_versions = [f for f in files if appname in f and version not in f]\n",
    "    return other_versions\n",
    "\n",
    "# find_other_installed_versions(factorio_mods)"
   ]
  },
  {
   "cell_type": "code",
   "execution_count": null,
   "metadata": {},
   "outputs": [],
   "source": [
    "def remove_old_versions(mod_folder):\n",
    "    other_versions = find_other_installed_versions(mod_folder)\n",
    "    for version in other_versions:\n",
    "        os.remove(mod_folder + version)\n",
    "    return other_versions\n",
    "\n",
    "# remove_old_versions(factorio_mods)"
   ]
  },
  {
   "cell_type": "code",
   "execution_count": null,
   "metadata": {},
   "outputs": [],
   "source": [
    "def package_app(mod_folder):\n",
    "    version = bump_version('mod/src/info.json')\n",
    "    path, appname = zip_app()\n",
    "    dest = shutil.copy(f'{path}.zip', mod_folder)\n",
    "    old_versions = remove_old_versions(mod_folder)\n",
    "    return f'Packaged {appname} {version} to {dest} and removed {old_versions}'\n"
   ]
  },
  {
   "cell_type": "code",
   "execution_count": null,
   "metadata": {},
   "outputs": [],
   "source": [
    "# factorio_mods = 'C:/Users/peter/AppData/Roaming/Factorio/mods/'\n",
    "# package_app(factorio_mods)"
   ]
  }
 ],
 "metadata": {
  "kernelspec": {
   "display_name": "Python 3",
   "language": "python",
   "name": "python3"
  },
  "language_info": {
   "codemirror_mode": {
    "name": "ipython",
    "version": 3
   },
   "file_extension": ".py",
   "mimetype": "text/x-python",
   "name": "python",
   "nbconvert_exporter": "python",
   "pygments_lexer": "ipython3",
   "version": "3.11.8"
  }
 },
 "nbformat": 4,
 "nbformat_minor": 2
}
