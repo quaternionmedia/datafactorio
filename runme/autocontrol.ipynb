{
 "cells": [
  {
   "cell_type": "code",
   "execution_count": null,
   "metadata": {},
   "outputs": [],
   "source": [
    "%pip install pyautogui\n"
   ]
  },
  {
   "cell_type": "code",
   "execution_count": null,
   "metadata": {},
   "outputs": [],
   "source": [
    "import pyautogui"
   ]
  },
  {
   "cell_type": "code",
   "execution_count": null,
   "metadata": {},
   "outputs": [],
   "source": [
    "\n",
    "def find_window(window_title):\n",
    "    window = pyautogui.getWindowsWithTitle(window_title)\n",
    "    if window:\n",
    "        return window[0]\n",
    "    else:\n",
    "        return None\n",
    "\n",
    "def focus_window(window_title):\n",
    "    window = find_window(window_title)\n",
    "    if window:\n",
    "        window.activate()\n",
    "        return True\n",
    "    else:\n",
    "        return False\n",
    "    \n"
   ]
  },
  {
   "cell_type": "code",
   "execution_count": null,
   "metadata": {},
   "outputs": [],
   "source": [
    "win_name = 'Factorio 1.1.101'\n",
    "factorio_window = find_window(win_name)\n"
   ]
  },
  {
   "cell_type": "code",
   "execution_count": null,
   "metadata": {},
   "outputs": [],
   "source": [
    "def click_text_in_window(text):\n",
    "    try:\n",
    "        text_location = pyautogui.locateCenterOnScreen(f'ref/{text}.png')\n",
    "        if text_location:\n",
    "            pyautogui.click(text_location)\n",
    "            return True\n",
    "        else:\n",
    "            return False\n",
    "    except pyautogui.ImageNotFoundException:\n",
    "        return False\n",
    "    \n",
    "def click_exit_from_main_menu():\n",
    "    try:\n",
    "        # assumes a png file named 'exit.png' exists in the 'ref' folder w a screenshot of factorio's exit button\n",
    "        click_text_in_window('exit')\n",
    "        return True\n",
    "    except pyautogui.ImageNotFoundException:\n",
    "        return False\n",
    "    \n",
    "# click_exit_from_main_menu()"
   ]
  }
 ],
 "metadata": {
  "language_info": {
   "name": "python"
  }
 },
 "nbformat": 4,
 "nbformat_minor": 2
}
